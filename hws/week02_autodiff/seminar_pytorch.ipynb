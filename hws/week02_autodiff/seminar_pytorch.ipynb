{
  "cells": [
    {
      "cell_type": "markdown",
      "metadata": {
        "id": "view-in-github",
        "colab_type": "text"
      },
      "source": [
        "<a href=\"https://colab.research.google.com/github/succSeeded/dl-2025/blob/main/hws/week02_autodiff/seminar_pytorch.ipynb\" target=\"_parent\"><img src=\"https://colab.research.google.com/assets/colab-badge.svg\" alt=\"Open In Colab\"/></a>"
      ]
    },
    {
      "cell_type": "markdown",
      "metadata": {
        "id": "Mo1MwAgofRBH"
      },
      "source": [
        "# Hello, pytorch\n",
        "\n",
        "![img](https://pytorch.org/tutorials/_static/pytorch-logo-dark.svg)\n",
        "\n",
        "__This notebook__ will teach you to use pytorch low-level core. You can install it [here](http://pytorch.org/). For high-level interface see the next notebook.\n",
        "\n",
        "__Pytorch feels__ differently than tensorflow/theano on almost every level. TensorFlow makes your code live in two \"worlds\" simultaneously:  symbolic graphs and actual tensors. First you declare a symbolic \"recipe\" of how to get from inputs to outputs, then feed it with actual minibatches of data.  In pytorch, __there's only one world__: all tensors have a numeric value.\n",
        "\n",
        "You compute outputs on the fly without pre-declaring anything. The code looks exactly as in pure numpy with one exception: pytorch computes gradients for you. And can run stuff on GPU. And has a number of pre-implemented building blocks for your neural nets. [And a few more things.](https://medium.com/towards-data-science/pytorch-vs-tensorflow-spotting-the-difference-25c75777377b)\n",
        "\n",
        "And now we finally shut up and let pytorch do the talking."
      ]
    },
    {
      "cell_type": "code",
      "execution_count": null,
      "metadata": {
        "id": "gYt_HyS5fRBM",
        "outputId": "1d3c26d8-b49e-4862-eb2c-9976ca0aba66",
        "colab": {
          "base_uri": "https://localhost:8080/"
        }
      },
      "outputs": [
        {
          "output_type": "stream",
          "name": "stdout",
          "text": [
            "2.0.1+cu118\n"
          ]
        }
      ],
      "source": [
        "# if running in colab, execute this:\n",
        "# !wget https://raw.githubusercontent.com/yandexdataschool/Practical_DL/fall19/week02_autodiff/notmnist.py -O notmnist.py\n",
        "\n",
        "from __future__ import print_function\n",
        "import numpy as np\n",
        "import pandas as pd\n",
        "import torch\n",
        "print(torch.__version__)  # it's okay if your version is different, as long as it's 1.0 or newer"
      ]
    },
    {
      "cell_type": "code",
      "execution_count": null,
      "metadata": {
        "scrolled": true,
        "id": "PxL1wlHrfRBO",
        "outputId": "728b1cac-fe00-4349-e4f3-59085e496db9",
        "colab": {
          "base_uri": "https://localhost:8080/"
        }
      },
      "outputs": [
        {
          "output_type": "stream",
          "name": "stdout",
          "text": [
            "X :\n",
            "[[ 0  1  2  3]\n",
            " [ 4  5  6  7]\n",
            " [ 8  9 10 11]\n",
            " [12 13 14 15]]\n",
            "\n",
            "X.shape : (4, 4)\n",
            "\n",
            "add 5 :\n",
            "[[ 5  6  7  8]\n",
            " [ 9 10 11 12]\n",
            " [13 14 15 16]\n",
            " [17 18 19 20]]\n",
            "\n",
            "X*X^T  :\n",
            "[[ 14  38  62  86]\n",
            " [ 38 126 214 302]\n",
            " [ 62 214 366 518]\n",
            " [ 86 302 518 734]]\n",
            "\n",
            "mean over cols :\n",
            "[ 1.5  5.5  9.5 13.5]\n",
            "\n",
            "cumsum of cols :\n",
            "[[ 0  1  2  3]\n",
            " [ 4  6  8 10]\n",
            " [12 15 18 21]\n",
            " [24 28 32 36]]\n",
            "\n"
          ]
        }
      ],
      "source": [
        "# numpy world\n",
        "\n",
        "x = np.arange(16).reshape(4, 4)\n",
        "\n",
        "print(\"X :\\n%s\\n\" % x)\n",
        "print(\"X.shape : %s\\n\" % (x.shape,))\n",
        "print(\"add 5 :\\n%s\\n\" % (x + 5))\n",
        "print(\"X*X^T  :\\n%s\\n\" % np.dot(x, x.T))\n",
        "print(\"mean over cols :\\n%s\\n\" % (x.mean(axis=-1)))\n",
        "print(\"cumsum of cols :\\n%s\\n\" % (np.cumsum(x, axis=0)))"
      ]
    },
    {
      "cell_type": "code",
      "execution_count": null,
      "metadata": {
        "id": "V9s-sLK7fRBR",
        "outputId": "698c0706-a032-446f-a1c6-68d2cbdd5518",
        "colab": {
          "base_uri": "https://localhost:8080/"
        }
      },
      "outputs": [
        {
          "output_type": "stream",
          "name": "stdout",
          "text": [
            "X :\n",
            "tensor([[ 0.,  1.,  2.,  3.],\n",
            "        [ 4.,  5.,  6.,  7.],\n",
            "        [ 8.,  9., 10., 11.],\n",
            "        [12., 13., 14., 15.]])\n",
            "X.shape : torch.Size([4, 4])\n",
            "\n",
            "add 5 :\n",
            "tensor([[ 5.,  6.,  7.,  8.],\n",
            "        [ 9., 10., 11., 12.],\n",
            "        [13., 14., 15., 16.],\n",
            "        [17., 18., 19., 20.]])\n",
            "X*X^T  :\n",
            "tensor([[ 14.,  38.,  62.,  86.],\n",
            "        [ 38., 126., 214., 302.],\n",
            "        [ 62., 214., 366., 518.],\n",
            "        [ 86., 302., 518., 734.]])\n",
            "mean over cols :\n",
            "tensor([ 1.5000,  5.5000,  9.5000, 13.5000])\n",
            "cumsum of cols :\n",
            "tensor([[ 0.,  1.,  2.,  3.],\n",
            "        [ 4.,  6.,  8., 10.],\n",
            "        [12., 15., 18., 21.],\n",
            "        [24., 28., 32., 36.]])\n"
          ]
        }
      ],
      "source": [
        "# pytorch world\n",
        "\n",
        "x = np.arange(16).reshape(4, 4)\n",
        "\n",
        "x = torch.tensor(x, dtype=torch.float32)  # or torch.arange(0,16).view(4,4)\n",
        "\n",
        "print(\"X :\\n%s\" % x)\n",
        "print(\"X.shape : %s\\n\" % (x.shape,))\n",
        "print(\"add 5 :\\n%s\" % (x + 5))\n",
        "print(\"X*X^T  :\\n%s\" % torch.matmul(x, x.transpose(1, 0)))  # short: x.mm(x.t())\n",
        "print(\"mean over cols :\\n%s\" % torch.mean(x, dim=-1))\n",
        "print(\"cumsum of cols :\\n%s\" % torch.cumsum(x, dim=0))"
      ]
    },
    {
      "cell_type": "markdown",
      "metadata": {
        "id": "QP8WqZu0fRBS"
      },
      "source": [
        "## NumPy and Pytorch\n",
        "\n",
        "As you can notice, pytorch allows you to hack stuff much the same way you did with numpy. No graph declaration, no placeholders, no sessions. This means that you can _see the numeric value of any tensor at any moment of time_. Debugging such code can be done with by printing tensors or using any debug tool you want (e.g. [gdb](https://wiki.python.org/moin/DebuggingWithGdb)).\n",
        "\n",
        "You could also notice the a few new method names and a different API. So no, there's no compatibility with numpy [yet](https://github.com/pytorch/pytorch/issues/2228) and yes, you'll have to memorize all the names again. Get excited!\n",
        "\n",
        "![img](http://i0.kym-cdn.com/entries/icons/original/000/017/886/download.jpg)\n",
        "\n",
        "For example,\n",
        "* If something takes a list/tuple of axes in numpy, you can expect it to take *args in pytorch\n",
        " * `x.reshape([1,2,8]) -> x.view(1,2,8)`\n",
        "* You should swap _axis_ for _dim_ in operations like mean or cumsum\n",
        " * `x.sum(axis=-1) -> x.sum(dim=-1)`\n",
        "* most mathematical operations are the same, but types an shaping is different\n",
        " * `x.astype('int64') -> x.type(torch.LongTensor)`\n",
        "\n",
        "To help you acclimatize, there's a [table](https://github.com/torch/torch7/wiki/Torch-for-Numpy-users) covering most new things. There's also a neat [documentation page](http://pytorch.org/docs/master/).\n",
        "\n",
        "Finally, if you're stuck with a technical problem, we recommend searching [pytorch forumns](https://discuss.pytorch.org/). Or just googling, which usually works just as efficiently.\n",
        "\n",
        "If you feel like you almost give up, remember two things: __GPU__ an __free gradients__. Besides you can always jump back to numpy with x.numpy()"
      ]
    },
    {
      "cell_type": "markdown",
      "metadata": {
        "id": "AbN1xknUfRBU"
      },
      "source": [
        "### Warmup: trigonometric knotwork\n",
        "_inspired by [this post](https://www.quora.com/What-are-the-most-interesting-equation-plots)_\n",
        "\n",
        "There are some simple mathematical functions with cool plots. For one, consider this:\n",
        "\n",
        "$$ x(t) = t - 1.5 * cos( 15 t) $$\n",
        "$$ y(t) = t - 1.5 * sin( 16 t) $$\n"
      ]
    },
    {
      "cell_type": "code",
      "execution_count": null,
      "metadata": {
        "collapsed": true,
        "id": "wNHAhzhWfRBW"
      },
      "outputs": [],
      "source": [
        "import matplotlib.pyplot as plt\n",
        "%matplotlib inline\n",
        "\n",
        "t = torch.linspace(-10, 10, steps=10000)\n",
        "\n",
        "# compute x(t) and y(t) as defined above\n",
        "x =  # YOUR CODE\n",
        "y =  # YOUR CODE\n",
        "\n",
        "plt.plot(x.numpy(), y.numpy())"
      ]
    },
    {
      "cell_type": "markdown",
      "metadata": {
        "id": "L54xa31jfRBX"
      },
      "source": [
        "if you're done early, try adjusting the formula and seing how  it affects the function"
      ]
    },
    {
      "cell_type": "markdown",
      "metadata": {
        "id": "MlYZLSLzfRBY"
      },
      "source": [
        "```\n",
        "\n",
        "```\n",
        "\n",
        "```\n",
        "\n",
        "```\n",
        "\n",
        "```\n",
        "\n",
        "```\n",
        "\n",
        "```\n",
        "\n",
        "```\n",
        "\n",
        "```\n",
        "\n",
        "```\n",
        "\n",
        "```\n",
        "\n",
        "```\n",
        "\n",
        "```\n",
        "\n",
        "```\n",
        "\n",
        "```\n",
        "\n",
        "```\n",
        "\n",
        "```\n",
        "\n",
        "```\n"
      ]
    },
    {
      "cell_type": "markdown",
      "metadata": {
        "id": "5XySdwpffRBa"
      },
      "source": [
        "## Automatic gradients\n",
        "\n",
        "Any self-respecting DL framework must do your backprop for you. Torch handles this with the `autograd` module.\n",
        "\n",
        "The general pipeline looks like this:\n",
        "* When creating a tensor, you mark it as `requires_grad`:\n",
        "    * __```torch.zeros(5, requires_grad=True)```__\n",
        "    * torch.tensor(np.arange(5), dtype=torch.float32, requires_grad=True)\n",
        "* Define some differentiable `loss = arbitrary_function(a)`\n",
        "* Call `loss.backward()`\n",
        "* Gradients are now available as ```a.grads```\n",
        "\n",
        "__Here's an example:__ let's fit a linear regression on Boston house prices"
      ]
    },
    {
      "cell_type": "code",
      "execution_count": null,
      "metadata": {
        "scrolled": true,
        "id": "fpFF4vSRfRBa",
        "outputId": "8e4e1b67-f513-4bd4-c5ab-f2eaa6921657",
        "colab": {
          "base_uri": "https://localhost:8080/",
          "height": 448
        }
      },
      "outputs": [
        {
          "output_type": "execute_result",
          "data": {
            "text/plain": [
              "<matplotlib.collections.PathCollection at 0x7ae3bd235960>"
            ]
          },
          "metadata": {},
          "execution_count": 7
        },
        {
          "output_type": "display_data",
          "data": {
            "text/plain": [
              "<Figure size 640x480 with 1 Axes>"
            ],
            "image/png": "[encoded data removed]"
          },
          "metadata": {}
        }
      ],
      "source": [
        "data_url = \"http://lib.stat.cmu.edu/datasets/boston\"\n",
        "raw_df = pd.read_csv(data_url, sep=\"\\s+\", skiprows=22, header=None)\n",
        "data = np.hstack([raw_df.values[::2, :], raw_df.values[1::2, :2]])\n",
        "target = raw_df.values[1::2, 2]\n",
        "plt.scatter(data[:, -1], target)"
      ]
    },
    {
      "cell_type": "code",
      "execution_count": null,
      "metadata": {
        "id": "e3IUPrrSfRBb"
      },
      "outputs": [],
      "source": [
        "w = torch.zeros(1, requires_grad=True)\n",
        "b = torch.zeros(1, requires_grad=True)\n",
        "\n",
        "x = torch.tensor(data[:, -1] / 10, dtype=torch.float32)\n",
        "y = torch.tensor(target, dtype=torch.float32)"
      ]
    },
    {
      "cell_type": "code",
      "execution_count": null,
      "metadata": {
        "id": "OiCwa01EfRBc"
      },
      "outputs": [],
      "source": [
        "y_pred = w * x + b\n",
        "loss = torch.mean((y_pred - y)**2)\n",
        "\n",
        "# propagete gradients\n",
        "loss.backward()"
      ]
    },
    {
      "cell_type": "markdown",
      "metadata": {
        "id": "_4pKTSQIfRBd"
      },
      "source": [
        "The gradients are now stored in `.grad` of those tensors that require them."
      ]
    },
    {
      "cell_type": "code",
      "execution_count": null,
      "metadata": {
        "id": "TKACldTgfRBd",
        "outputId": "b480d5b8-94a7-4ec1-fe5b-05bf2b35eefb",
        "colab": {
          "base_uri": "https://localhost:8080/"
        }
      },
      "outputs": [
        {
          "output_type": "stream",
          "name": "stdout",
          "text": [
            "dL/dw = \n",
            " tensor([-47.3514])\n",
            "dL/db = \n",
            " tensor([-45.0656])\n"
          ]
        }
      ],
      "source": [
        "print(\"dL/dw = \\n\", w.grad)\n",
        "print(\"dL/db = \\n\", b.grad)"
      ]
    },
    {
      "cell_type": "markdown",
      "metadata": {
        "id": "zUP4da9_fRBf"
      },
      "source": [
        "If you compute gradient from multiple losses, the gradients will add up at tensors, therefore it's useful to __zero the gradients__ between iteratons."
      ]
    },
    {
      "cell_type": "code",
      "execution_count": null,
      "metadata": {
        "id": "YBrjw-qLfRBf",
        "outputId": "98686f71-1ee0-4c48-f878-b99cc0256ea2",
        "colab": {
          "base_uri": "https://localhost:8080/",
          "height": 448
        }
      },
      "outputs": [
        {
          "output_type": "display_data",
          "data": {
            "text/plain": [
              "<Figure size 640x480 with 1 Axes>"
            ],
            "image/png": "[encoded data removed]"
          },
          "metadata": {}
        },
        {
          "output_type": "stream",
          "name": "stdout",
          "text": [
            "loss =  44.59417\n"
          ]
        }
      ],
      "source": [
        "from IPython.display import clear_output\n",
        "\n",
        "for i in range(100):\n",
        "\n",
        "    y_pred = w * x + b\n",
        "    loss = torch.mean((y_pred - y)**2)\n",
        "    loss.backward()\n",
        "\n",
        "    with torch.no_grad():\n",
        "        w.data = w - 0.05 * w.grad.data\n",
        "        b.data = b - 0.05 * b.grad.data\n",
        "\n",
        "        # zero gradients\n",
        "        w.grad.zero_()\n",
        "        b.grad.zero_()\n",
        "\n",
        "    # the rest of code is just bells and whistles\n",
        "    if (i + 1) % 5 == 0:\n",
        "        clear_output(True)\n",
        "        plt.scatter(x.data.numpy(), y.data.numpy())\n",
        "        plt.scatter(x.data.numpy(), y_pred.data.numpy(),\n",
        "                    color='orange', linewidth=5)\n",
        "        plt.show()\n",
        "\n",
        "        print(\"loss = \", loss.data.numpy())\n",
        "        if loss.item() < 0.5:\n",
        "            print(\"Done!\")\n",
        "            break"
      ]
    },
    {
      "cell_type": "markdown",
      "metadata": {
        "id": "kt4dOzWKfRBh"
      },
      "source": [
        "__Bonus quest__: try implementing and writing some nonlinear regression. You can try quadratic features or some trigonometry, or a simple neural network. The only difference is that now you have more weights and a more complicated `y_pred`."
      ]
    },
    {
      "cell_type": "markdown",
      "metadata": {
        "id": "igVH11o4fRBh"
      },
      "source": [
        "# High-level pytorch\n",
        "\n",
        "So far we've been dealing with low-level torch API. While it's absolutely vital for any custom losses or layers, building large neura nets in it is a bit clumsy.\n",
        "\n",
        "Luckily, there's also a high-level torch interface with a pre-defined layers, activations and training algorithms.\n",
        "\n",
        "We'll cover them as we go through a simple image recognition problem: classifying letters into __\"A\"__ vs __\"B\"__.\n"
      ]
    },
    {
      "cell_type": "code",
      "execution_count": null,
      "metadata": {
        "id": "2SkzrxDSfRBi",
        "outputId": "91e078c7-36c5-4343-b1ec-5f933161343e"
      },
      "outputs": [
        {
          "name": "stdout",
          "output_type": "stream",
          "text": [
            "Downloading data...\n",
            "Extracting ...\n",
            "Parsing...\n",
            "found broken img: ./notMNIST_small/A/RGVtb2NyYXRpY2FCb2xkT2xkc3R5bGUgQm9sZC50dGY=.png [it's ok if <10 images are broken]\n",
            "Done\n",
            "Train size = 2808, test_size = 937\n"
          ]
        }
      ],
      "source": [
        "from notmnist import load_notmnist  # if not found: remember to un-comment the first cell\n",
        "X_train, y_train, X_test, y_test = load_notmnist(letters='AB')\n",
        "X_train, X_test = X_train.reshape([-1, 784]), X_test.reshape([-1, 784])\n",
        "\n",
        "print(\"Train size = %i, test_size = %i\" % (len(X_train), len(X_test)))"
      ]
    },
    {
      "cell_type": "code",
      "execution_count": null,
      "metadata": {
        "scrolled": true,
        "id": "hBgdYF2KfRBk",
        "outputId": "ff552a6b-9e2d-4a50-f8d5-3022e093e285"
      },
      "outputs": [
        {
          "data": {
            "image/png": "[encoded data removed]",
            "text/plain": [
              "<Figure size 432x288 with 2 Axes>"
            ]
          },
          "metadata": {
            "needs_background": "light"
          },
          "output_type": "display_data"
        }
      ],
      "source": [
        "for i in [0, 1]:\n",
        "    plt.subplot(1, 2, i + 1)\n",
        "    plt.imshow(X_train[i].reshape([28, 28]))\n",
        "    plt.title(str(y_train[i]))"
      ]
    },
    {
      "cell_type": "markdown",
      "metadata": {
        "id": "WaPo2ZsCfRBm"
      },
      "source": [
        "Let's start with layers. The main abstraction here is __`torch.nn.Module`__"
      ]
    },
    {
      "cell_type": "code",
      "execution_count": null,
      "metadata": {
        "id": "AHnp5YmmfRBn",
        "outputId": "176e924d-564a-44a6-f7ca-548aaa2f555e"
      },
      "outputs": [
        {
          "name": "stdout",
          "output_type": "stream",
          "text": [
            "Base class for all neural network modules.\n",
            "\n",
            "    Your models should also subclass this class.\n",
            "\n",
            "    Modules can also contain other Modules, allowing to nest them in\n",
            "    a tree structure. You can assign the submodules as regular attributes::\n",
            "\n",
            "        import torch.nn as nn\n",
            "        import torch.nn.functional as F\n",
            "\n",
            "        class Model(nn.Module):\n",
            "            def __init__(self):\n",
            "                super().__init__()\n",
            "                self.conv1 = nn.Conv2d(1, 20, 5)\n",
            "                self.conv2 = nn.Conv2d(20, 20, 5)\n",
            "\n",
            "            def forward(self, x):\n",
            "                x = F.relu(self.conv1(x))\n",
            "                return F.relu(self.conv2(x))\n",
            "\n",
            "    Submodules assigned in this way will be registered, and will have their\n",
            "    parameters converted too when you call :meth:`to`, etc.\n",
            "\n",
            "    .. note::\n",
            "        As per the example above, an ``__init__()`` call to the parent class\n",
            "        must be made before assignment on the child.\n",
            "\n",
            "    :ivar training: Boolean represents whether this module is in training or\n",
            "                    evaluation mode.\n",
            "    :vartype training: bool\n",
            "    \n"
          ]
        }
      ],
      "source": [
        "from torch import nn\n",
        "import torch.nn.functional as F\n",
        "\n",
        "print(nn.Module.__doc__)"
      ]
    },
    {
      "cell_type": "markdown",
      "metadata": {
        "id": "hJqBrd2gfRBn"
      },
      "source": [
        "There's a vast library of popular layers and architectures already built for ya'.\n",
        "\n",
        "This is a binary classification problem, so we'll train a __Logistic Regression with sigmoid__.\n",
        "$$P(y_i | X_i) = \\sigma(W \\cdot X_i + b) ={ 1 \\over {1+e^{- [W \\cdot X_i + b]}} }$$\n"
      ]
    },
    {
      "cell_type": "code",
      "execution_count": null,
      "metadata": {
        "collapsed": true,
        "id": "rfY9598VfRBo"
      },
      "outputs": [],
      "source": [
        "# create a network that stacks layers on top of each other\n",
        "model = nn.Sequential(\n",
        "    nn.Linear(784, 1),   # add first \"dense\" layer with 784 input units and 1 output unit.\n",
        "    nn.Sigmoid()         # add softmax activation for probabilities. Normalize over axis 1\n",
        "\n",
        ")\n",
        "\n",
        "\n",
        "# note: you can also add layers with model.add_module('l1', ), all layer names must be unique\n"
      ]
    },
    {
      "cell_type": "code",
      "execution_count": null,
      "metadata": {
        "id": "v4cMxUHsfRBo",
        "outputId": "b0ab8d92-29ca-4208-c20f-80e6eebc39ba"
      },
      "outputs": [
        {
          "name": "stdout",
          "output_type": "stream",
          "text": [
            "Weight shapes: [torch.Size([1, 784]), torch.Size([1])]\n"
          ]
        }
      ],
      "source": [
        "print(\"Weight shapes:\", [w.shape for w in model.parameters()])"
      ]
    },
    {
      "cell_type": "code",
      "execution_count": null,
      "metadata": {
        "id": "Ahtb0BvDfRBp",
        "outputId": "100b1cef-185c-448c-d8d9-e1be60ac5dfa"
      },
      "outputs": [
        {
          "data": {
            "text/plain": [
              "tensor([ 0.4526,  0.4411,  0.5917])"
            ]
          },
          "execution_count": 18,
          "metadata": {},
          "output_type": "execute_result"
        }
      ],
      "source": [
        "# create dummy data with 3 samples and 784 features\n",
        "x = torch.tensor(X_train[:3], dtype=torch.float32)\n",
        "y = torch.tensor(y_train[:3], dtype=torch.float32)\n",
        "\n",
        "# compute outputs given inputs, both are tensors\n",
        "y_predicted = model(x)[:, 0]\n",
        "\n",
        "y_predicted  # display what we've got"
      ]
    },
    {
      "cell_type": "markdown",
      "metadata": {
        "id": "bADfubi2fRBq"
      },
      "source": [
        "Let's now define a loss function for our model.\n",
        "\n",
        "The natural choice is to use binary crossentropy (aka logloss, negative llh):\n",
        "$$ L = {1 \\over N} \\underset{X_i,y_i} \\sum - [  y_i \\cdot log P(y_i | X_i) + (1-y_i) \\cdot log (1-P(y_i | X_i)) ]$$\n",
        "Your task is to implement crossentropy loss __manually__ without using `torch.nn.functional`.\n",
        "\n"
      ]
    },
    {
      "cell_type": "code",
      "execution_count": null,
      "metadata": {
        "collapsed": true,
        "id": "toAa2WuSfRBq"
      },
      "outputs": [],
      "source": [
        "crossentropy =  # YOUR CODE\n",
        "\n",
        "loss =  # YOUR CODE\n",
        "\n",
        "assert tuple(crossentropy.size()) == (\n",
        "    3,), \"Crossentropy must be a vector with element per sample\"\n",
        "assert tuple(loss.size()) == tuple(\n",
        "), \"Loss must be scalar. Did you forget the mean/sum?\"\n",
        "assert loss.data.numpy() > 0, \"Crossentropy must non-negative, zero only for perfect prediction\"\n",
        "assert loss.data.numpy() <= np.log(\n",
        "    3), \"Loss is too large even for untrained model. Please double-check it.\""
      ]
    },
    {
      "cell_type": "markdown",
      "metadata": {
        "id": "EYcodvndfRBr"
      },
      "source": [
        "__Note:__ you can also find crossentropy loss in `torch.nn.functional`, just type __`F.<tab>`__. However, it operates on raw logits instead of probabilities."
      ]
    },
    {
      "cell_type": "markdown",
      "metadata": {
        "id": "9JAn9gvrfRBs"
      },
      "source": [
        "__Torch optimizers__\n",
        "\n",
        "When we trained Linear Regression above, we had to manually .zero_() gradients on both our tensors. Imagine that code for a 50-layer network.\n",
        "\n",
        "Again, to keep it from getting dirty, there's `torch.optim` module with pre-implemented algorithms:"
      ]
    },
    {
      "cell_type": "code",
      "execution_count": null,
      "metadata": {
        "collapsed": true,
        "id": "Uc7XaHq4fRBs"
      },
      "outputs": [],
      "source": [
        "opt = torch.optim.RMSprop(model.parameters(), lr=0.01)\n",
        "\n",
        "# here's how it's used:\n",
        "loss.backward()      # add new gradients\n",
        "opt.step()           # change weights\n",
        "opt.zero_grad()      # clear gradients"
      ]
    },
    {
      "cell_type": "code",
      "execution_count": null,
      "metadata": {
        "collapsed": true,
        "id": "7UXKpuxbfRBt"
      },
      "outputs": [],
      "source": [
        "# dispose of old tensors to avoid bugs later\n",
        "del x, y, y_predicted, loss, y_pred"
      ]
    },
    {
      "cell_type": "markdown",
      "metadata": {
        "id": "2WEty1DKfRBt"
      },
      "source": [
        "### Putting it all together"
      ]
    },
    {
      "cell_type": "code",
      "execution_count": null,
      "metadata": {
        "collapsed": true,
        "id": "mFIQiFEZfRBu"
      },
      "outputs": [],
      "source": [
        "# create network again just in case\n",
        "model = nn.Sequential()\n",
        "model.add_module('first', nn.Linear(784, 1))\n",
        "model.add_module('second', nn.Sigmoid())\n",
        "\n",
        "opt = torch.optim.Adam(model.parameters(), lr=1e-3)"
      ]
    },
    {
      "cell_type": "code",
      "execution_count": null,
      "metadata": {
        "id": "T4pwAWagfRBu",
        "outputId": "5793ea08-f1dd-4c81-90d3-7a728bb08019"
      },
      "outputs": [
        {
          "name": "stdout",
          "output_type": "stream",
          "text": [
            "step #0 | mean loss = 0.573\n",
            "step #10 | mean loss = 0.371\n",
            "step #20 | mean loss = 0.218\n",
            "step #30 | mean loss = 0.159\n",
            "step #40 | mean loss = 0.141\n",
            "step #50 | mean loss = 0.127\n",
            "step #60 | mean loss = 0.131\n",
            "step #70 | mean loss = 0.107\n",
            "step #80 | mean loss = 0.116\n",
            "step #90 | mean loss = 0.101\n"
          ]
        }
      ],
      "source": [
        "history = []\n",
        "\n",
        "for i in range(100):\n",
        "\n",
        "    # sample 256 random images\n",
        "    ix = np.random.randint(0, len(X_train), 256)\n",
        "    x_batch = torch.tensor(X_train[ix], dtype=torch.float32)\n",
        "    y_batch = torch.tensor(y_train[ix], dtype=torch.float32)\n",
        "\n",
        "    # predict probabilities\n",
        "    y_predicted =  # YOUR CODE\n",
        "\n",
        "    assert y_predicted.dim(\n",
        "    ) == 1, \"did you forget to select first column with [:, 0]\"\n",
        "\n",
        "    # compute loss, just like before\n",
        "    loss =  # YOUR CODE\n",
        "\n",
        "    # compute gradients\n",
        "    <YOUR CODE >\n",
        "\n",
        "    # Adam step\n",
        "    <YOUR CODE >\n",
        "\n",
        "    # clear gradients\n",
        "    <YOUR CODE >\n",
        "\n",
        "    history.append(loss.data.numpy())\n",
        "\n",
        "    if i % 10 == 0:\n",
        "        print(\"step #%i | mean loss = %.3f\" % (i, np.mean(history[-10:])))"
      ]
    },
    {
      "cell_type": "markdown",
      "metadata": {
        "id": "WAOq5RRRfRBv"
      },
      "source": [
        "__Debugging tips:__\n",
        "* make sure your model predicts probabilities correctly. Just print them and see what's inside.\n",
        "* don't forget _minus_ sign in the loss function! It's a mistake 99% ppl do at some point.\n",
        "* make sure you zero-out gradients after each step. Srsly:)\n",
        "* In general, pytorch's error messages are quite helpful, read 'em before you google 'em.\n",
        "* if you see nan/inf, print what happens at each iteration to find our where exactly it occurs.\n",
        "  * If loss goes down and then turns nan midway through, try smaller learning rate. (Our current loss formula is unstable).\n"
      ]
    },
    {
      "cell_type": "markdown",
      "metadata": {
        "id": "wrjeT46nfRBv"
      },
      "source": [
        "### Evaluation\n",
        "\n",
        "Let's see how our model performs on test data"
      ]
    },
    {
      "cell_type": "code",
      "execution_count": null,
      "metadata": {
        "id": "zx61JlYGfRBv",
        "outputId": "91ea244c-1d34-4ccf-fe07-efdafe848665"
      },
      "outputs": [
        {
          "name": "stdout",
          "output_type": "stream",
          "text": [
            "Test accuracy: 0.96585\n"
          ]
        }
      ],
      "source": [
        "# use your model to predict classes (0 or 1) for all test samples\n",
        "predicted_y_test =  # YOUR CODE\n",
        "\n",
        "assert isinstance(predicted_y_test, np.ndarray), \"please return np array, not %s\" % type(\n",
        "    predicted_y_test)\n",
        "assert predicted_y_test.shape == y_test.shape, \"please predict one class for each test sample\"\n",
        "assert np.in1d(predicted_y_test, y_test).all(), \"please predict class indexes\"\n",
        "\n",
        "accuracy = np.mean(predicted_y_test == y_test)\n",
        "\n",
        "print(\"Test accuracy: %.5f\" % accuracy)\n",
        "assert accuracy > 0.95, \"try training longer\""
      ]
    },
    {
      "cell_type": "markdown",
      "metadata": {
        "id": "h_76u1YhfRBw"
      },
      "source": [
        "## More about pytorch:\n",
        "* Using torch on GPU and multi-GPU - [link](http://pytorch.org/docs/master/notes/cuda.html)\n",
        "* More tutorials on pytorch - [link](http://pytorch.org/tutorials/beginner/deep_learning_60min_blitz.html)\n",
        "* Pytorch examples - a repo that implements many cool DL models in pytorch - [link](https://github.com/pytorch/examples)\n",
        "* Practical pytorch - a repo that implements some... other cool DL models... yes, in pytorch - [link](https://github.com/spro/practical-pytorch)\n",
        "* And some more - [link](https://www.reddit.com/r/pytorch/comments/6z0yeo/pytorch_and_pytorch_tricks_for_kaggle/)\n",
        "\n",
        "```\n",
        "\n",
        "```\n",
        "\n",
        "```\n",
        "\n",
        "```\n",
        "\n",
        "```\n",
        "\n",
        "```\n",
        "\n",
        "```\n",
        "\n",
        "```\n",
        "\n",
        "```\n",
        "\n",
        "```"
      ]
    }
  ],
  "metadata": {
    "kernelspec": {
      "display_name": "Python 3",
      "language": "python",
      "name": "python3"
    },
    "language_info": {
      "codemirror_mode": {
        "name": "ipython",
        "version": 3
      },
      "file_extension": ".py",
      "mimetype": "text/x-python",
      "name": "python",
      "nbconvert_exporter": "python",
      "pygments_lexer": "ipython3",
      "version": "3.8.8"
    },
    "colab": {
      "provenance": [],
      "include_colab_link": true
    }
  },
  "nbformat": 4,
  "nbformat_minor": 0
}
